{
 "cells": [
  {
   "cell_type": "code",
   "execution_count": 61,
   "id": "54ee5ee1",
   "metadata": {},
   "outputs": [],
   "source": [
    "import json\n",
    "import polars as pl\n",
    "import sqlite3\n",
    "import pandas as pd"
   ]
  },
  {
   "cell_type": "code",
   "execution_count": 122,
   "id": "c4a9e3dd",
   "metadata": {},
   "outputs": [
    {
     "data": {
      "text/plain": [
       "1    בננה\n",
       "Name: meaning, dtype: object"
      ]
     },
     "execution_count": 122,
     "metadata": {},
     "output_type": "execute_result"
    }
   ],
   "source": [
    "conn = sqlite3.connect('/home/yoeltokatly/git_repo/vocabulatu_trainer/vocabulary.db')\n",
    "cursor = conn.cursor()\n",
    "query = f\"SELECT *  FROM vocabulary \" \n",
    "result = pd.read_sql(query,conn) \n",
    "result['meaning'][1:0:-1]\n",
    "# print (result)"
   ]
  },
  {
   "cell_type": "code",
   "execution_count": null,
   "id": "6a7b223f",
   "metadata": {},
   "outputs": [
    {
     "name": "stdout",
     "output_type": "stream",
     "text": [
      "   id unit_id  word meaning\n",
      "0  17    yoel  yoel    king\n",
      "   id unit_id  word meaning\n",
      "0  17    yoel  yoel    king\n"
     ]
    }
   ],
   "source": [
    "word = input (\"Enter word to delete:\").lower().strip()\n",
    "query = f\"SELECT * FROM vocabulary WHERE word like '%{word}%'\"\n",
    "q_result = pd.read_sql(query,conn)\n",
    "print(q_result)\n",
    "id_2_delete = int(input(f'please select id to delete {q_result}'))\n",
    "df_2_delete =q_result[ q_result['id'] == id_2_delete]\n",
    "cursor.execute(f\"delete from vocabulary WHERE id = {id_2_delete}\"                                        )\n",
    "conn.commit()\n",
    "conn.close()\n",
    "print(q_result[q_result['id'] == id_2_delete]['word'] )\n",
    "\n"
   ]
  },
  {
   "cell_type": "code",
   "execution_count": null,
   "id": "45c3ac81",
   "metadata": {},
   "outputs": [],
   "source": [
    "word = input (\"Enter word to update:\").lower().strip()\n",
    "query = f\"SELECT * FROM vocabulary WHERE word like '%{word}%'\"\n",
    "q_result = pd.read_sql(query,conn)\n",
    "print(q_result)\n",
    "id_2_update = int(input(f'please select id to update {q_result}'))\n",
    "df_2_delete =q_result[ q_result['id'] == id_2_update]\n",
    "\n",
    "cursor.execute(f\"delete from vocabulary WHERE id = {id_2_update}\"                                        )\n",
    "conn.commit()\n",
    "conn.close()\n",
    "print(q_result[q_result['id'] == id_2_delete]['word'] +'is no more!')"
   ]
  },
  {
   "cell_type": "code",
   "execution_count": null,
   "id": "f5a6cb60",
   "metadata": {},
   "outputs": [],
   "source": []
  },
  {
   "cell_type": "code",
   "execution_count": 80,
   "id": "00563c95",
   "metadata": {},
   "outputs": [
    {
     "name": "stdout",
     "output_type": "stream",
     "text": [
      "16\n"
     ]
    }
   ],
   "source": [
    "query = f\"SELECT count(*) as rows  FROM vocabulary \" \n",
    "result = pd.read_sql(query,conn)['rows'][0]\n",
    "print(result)\n",
    "if result == 0: \n",
    "            print (1)"
   ]
  },
  {
   "cell_type": "code",
   "execution_count": 75,
   "id": "03e5dd72",
   "metadata": {},
   "outputs": [
    {
     "name": "stdout",
     "output_type": "stream",
     "text": [
      "0\n"
     ]
    }
   ],
   "source": [
    "word = input (\"Enter word:\")\n",
    "query = f\"SELECT count(*) FROM vocabulary WHERE word =  '{word}'\"\n",
    "# print(query)\n",
    "q_result = pd.read_sql(query,conn)['count(*)'][0]\n",
    "\n",
    "print(q_result)"
   ]
  },
  {
   "cell_type": "code",
   "execution_count": null,
   "id": "729807d4",
   "metadata": {},
   "outputs": [],
   "source": [
    "query = f\"SELECT * as rows  FROM vocabulary \" \n",
    "result = pd.read_sql(query,conn)\n",
    "print(result)\n"
   ]
  },
  {
   "cell_type": "code",
   "execution_count": 12,
   "id": "955da1f3",
   "metadata": {},
   "outputs": [
    {
     "name": "stdout",
     "output_type": "stream",
     "text": [
      "shape: (15, 3)\n",
      "┌────────┬────────┬─────────┐\n",
      "│ unit   ┆ word   ┆ meaning │\n",
      "│ ---    ┆ ---    ┆ ---     │\n",
      "│ str    ┆ str    ┆ str     │\n",
      "╞════════╪════════╪═════════╡\n",
      "│ unit_1 ┆ apple  ┆ תפוח    │\n",
      "│ unit_1 ┆ banana ┆ בננה    │\n",
      "│ unit_1 ┆ grape  ┆ ענב     │\n",
      "│ unit_1 ┆ orange ┆ תפוז    │\n",
      "│ unit_1 ┆ pear   ┆ אגס     │\n",
      "│ …      ┆ …      ┆ …       │\n",
      "│ unit_3 ┆ sun    ┆ שמש     │\n",
      "│ unit_3 ┆ moon   ┆ ירח     │\n",
      "│ unit_3 ┆ star   ┆ כוכב    │\n",
      "│ unit_3 ┆ cloud  ┆ ענן     │\n",
      "│ unit_3 ┆ rain   ┆ גשם     │\n",
      "└────────┴────────┴─────────┘\n"
     ]
    }
   ],
   "source": [
    "with open('vocab_hebrew.json', 'r') as file:\n",
    "    data = json.load(file)\n",
    "\n",
    "rows = []\n",
    "\n",
    "# Process each unit\n",
    "for unit_name, word_list in data.items():\n",
    "    for word_data in word_list:\n",
    "        # Create a row with unit, word, and meaning\n",
    "        row = {\n",
    "            'unit': unit_name,\n",
    "            'word': word_data['word'],\n",
    "            'meaning': word_data['meaning']\n",
    "        }\n",
    "        rows.append(row)\n",
    "\n",
    "# Create DataFrame from the list of rows\n",
    "df = pl.DataFrame(rows)\n",
    "\n",
    "# Display the DataFrame\n",
    "print(df)"
   ]
  },
  {
   "cell_type": "code",
   "execution_count": 112,
   "id": "9c2f8cc1",
   "metadata": {},
   "outputs": [
    {
     "data": {
      "text/html": [
       "<div>\n",
       "<style scoped>\n",
       "    .dataframe tbody tr th:only-of-type {\n",
       "        vertical-align: middle;\n",
       "    }\n",
       "\n",
       "    .dataframe tbody tr th {\n",
       "        vertical-align: top;\n",
       "    }\n",
       "\n",
       "    .dataframe thead th {\n",
       "        text-align: right;\n",
       "    }\n",
       "</style>\n",
       "<table border=\"1\" class=\"dataframe\">\n",
       "  <thead>\n",
       "    <tr style=\"text-align: right;\">\n",
       "      <th></th>\n",
       "      <th>0</th>\n",
       "    </tr>\n",
       "  </thead>\n",
       "  <tbody>\n",
       "    <tr>\n",
       "      <th>0</th>\n",
       "      <td>unit</td>\n",
       "    </tr>\n",
       "    <tr>\n",
       "      <th>1</th>\n",
       "      <td>word</td>\n",
       "    </tr>\n",
       "    <tr>\n",
       "      <th>2</th>\n",
       "      <td>meaning</td>\n",
       "    </tr>\n",
       "  </tbody>\n",
       "</table>\n",
       "</div>"
      ],
      "text/plain": [
       "         0\n",
       "0     unit\n",
       "1     word\n",
       "2  meaning"
      ]
     },
     "execution_count": 112,
     "metadata": {},
     "output_type": "execute_result"
    }
   ],
   "source": [
    "columns = pd.DataFrame(df.columns)\n",
    "columns"
   ]
  },
  {
   "cell_type": "code",
   "execution_count": null,
   "id": "f7e56be0",
   "metadata": {},
   "outputs": [
    {
     "name": "stdout",
     "output_type": "stream",
     "text": [
      "shape: (15, 3)\n",
      "┌────────┬────────┬─────────┐\n",
      "│ unit   ┆ word   ┆ meaning │\n",
      "│ ---    ┆ ---    ┆ ---     │\n",
      "│ str    ┆ str    ┆ str     │\n",
      "╞════════╪════════╪═════════╡\n",
      "│ unit_1 ┆ apple  ┆ תפוח    │\n",
      "│ unit_1 ┆ banana ┆ בננה    │\n",
      "│ unit_1 ┆ grape  ┆ ענב     │\n",
      "│ unit_1 ┆ orange ┆ תפוז    │\n",
      "│ unit_1 ┆ pear   ┆ אגס     │\n",
      "│ …      ┆ …      ┆ …       │\n",
      "│ unit_3 ┆ sun    ┆ שמש     │\n",
      "│ unit_3 ┆ moon   ┆ ירח     │\n",
      "│ unit_3 ┆ star   ┆ כוכב    │\n",
      "│ unit_3 ┆ cloud  ┆ ענן     │\n",
      "│ unit_3 ┆ rain   ┆ גשם     │\n",
      "└────────┴────────┴─────────┘\n"
     ]
    }
   ],
   "source": [
    "# 1. Editing Mode\n",
    "# 2. Training Mode\n",
    "# 3. Testing Mode"
   ]
  },
  {
   "cell_type": "code",
   "execution_count": 19,
   "id": "53b83e3d",
   "metadata": {},
   "outputs": [
    {
     "ename": "NameError",
     "evalue": "name 'testing' is not defined",
     "output_type": "error",
     "traceback": [
      "\u001b[31m---------------------------------------------------------------------------\u001b[39m",
      "\u001b[31mNameError\u001b[39m                                 Traceback (most recent call last)",
      "\u001b[36mCell\u001b[39m\u001b[36m \u001b[39m\u001b[32mIn[19]\u001b[39m\u001b[32m, line 8\u001b[39m\n\u001b[32m      6\u001b[39m     traning()\n\u001b[32m      7\u001b[39m \u001b[38;5;28;01melif\u001b[39;00m mode == \u001b[33m'\u001b[39m\u001b[33mq\u001b[39m\u001b[33m'\u001b[39m:\n\u001b[32m----> \u001b[39m\u001b[32m8\u001b[39m     \u001b[43mtesting\u001b[49m()\n\u001b[32m      9\u001b[39m \u001b[38;5;28;01melse\u001b[39;00m :\n\u001b[32m     10\u001b[39m     mode=\u001b[38;5;28minput\u001b[39m(\u001b[33m\"\u001b[39m\u001b[33mchoose mode \u001b[39m\u001b[33m'\u001b[39m\u001b[33me\u001b[39m\u001b[33m'\u001b[39m\u001b[33m for edit, \u001b[39m\u001b[33m'\u001b[39m\u001b[33mt\u001b[39m\u001b[33m'\u001b[39m\u001b[33m for Training or \u001b[39m\u001b[33m'\u001b[39m\u001b[33mq\u001b[39m\u001b[33m'\u001b[39m\u001b[33m for Testing\u001b[39m\u001b[33m\"\u001b[39m).lower().strip()\n",
      "\u001b[31mNameError\u001b[39m: name 'testing' is not defined"
     ]
    }
   ],
   "source": [
    "mode=input(\"choose mode 'e' for edit, 't' for Training or 'q' for Testing\").lower().strip()\n",
    "\n",
    "if mode == 'e': \n",
    "    edit()\n",
    "elif mode == 't':\n",
    "    traning()\n",
    "elif mode == 'q':\n",
    "    testing()\n",
    "else :\n",
    "    mode=input(\"choose mode 'e' for edit, 't' for Training or 'q' for Testing\").lower().strip()\n",
    "\n",
    "\n",
    "print(mode) "
   ]
  }
 ],
 "metadata": {
  "kernelspec": {
   "display_name": ".venv",
   "language": "python",
   "name": "python3"
  },
  "language_info": {
   "codemirror_mode": {
    "name": "ipython",
    "version": 3
   },
   "file_extension": ".py",
   "mimetype": "text/x-python",
   "name": "python",
   "nbconvert_exporter": "python",
   "pygments_lexer": "ipython3",
   "version": "3.12.10"
  }
 },
 "nbformat": 4,
 "nbformat_minor": 5
}
